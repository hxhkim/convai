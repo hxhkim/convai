{
 "cells": [
  {
   "cell_type": "code",
   "execution_count": 1,
   "metadata": {},
   "outputs": [
    {
     "name": "stdout",
     "output_type": "stream",
     "text": [
      "File renaming completed.\n"
     ]
    }
   ],
   "source": [
    "import os\n",
    "import glob\n",
    "\n",
    "# Define the directory path\n",
    "directory_path = \"/home/user1/conversation-data/dataset-01-convai/data/03_filled_data/intermediate\"\n",
    "\n",
    "# Use glob to find all JSON files in the directory\n",
    "json_files = glob.glob(os.path.join(directory_path, \"*.json\"))\n",
    "\n",
    "for file_path in json_files:\n",
    "    # Extract the file name from the path\n",
    "    file_name = os.path.basename(file_path)\n",
    "    \n",
    "    # Split the file name to get the number after the last underscore\n",
    "    parts = file_name.split('_')\n",
    "    number_part = parts[-1].split('.')[0]\n",
    "    \n",
    "    # Pad the number to five digits\n",
    "    padded_number = number_part.zfill(5)\n",
    "    \n",
    "    # Construct the new file name\n",
    "    new_file_name = '_'.join(parts[:-1]) + f\"_{padded_number}.json\"\n",
    "    new_file_path = os.path.join(directory_path, new_file_name)\n",
    "    \n",
    "    # Rename the file\n",
    "    os.rename(file_path, new_file_path)\n",
    "\n",
    "print(\"File renaming completed.\")"
   ]
  },
  {
   "cell_type": "code",
   "execution_count": 4,
   "metadata": {},
   "outputs": [
    {
     "name": "stdout",
     "output_type": "stream",
     "text": [
      "File renaming completed.\n",
      "File renaming completed.\n",
      "File renaming completed.\n",
      "File renaming completed.\n",
      "File renaming completed.\n",
      "File renaming completed.\n",
      "File renaming completed.\n",
      "File renaming completed.\n"
     ]
    }
   ],
   "source": [
    "import os\n",
    "import glob\n",
    "\n",
    "folder_names = [\"export_2018-07-04_train\", \"export_2018-07-05_train\", \"export_2018-07-06_train\", \"export_2018-07-07_train\", \"summer_wild_evaluation_dialogs\", \"intermediate\", \"tolokers\", \"volunteers\"] \n",
    "\n",
    "import os\n",
    "import glob\n",
    "\n",
    "for folder_name in folder_names:\n",
    "    # Define the directory path\n",
    "    directory_path = f\"/home/user1/conversation-data/dataset-01-convai/data/02_transformed_data/{folder_name}\"\n",
    "\n",
    "    # Use glob to find all JSON files in the directory\n",
    "    json_files = glob.glob(os.path.join(directory_path, \"*.json\"))\n",
    "\n",
    "    for file_path in json_files:\n",
    "        # Extract the file name from the path\n",
    "        file_name = os.path.basename(file_path)\n",
    "        \n",
    "        # Split the file name to get the number after the last underscore\n",
    "        parts = file_name.split('_')\n",
    "        number_part = parts[-1].split('.')[0]\n",
    "        \n",
    "        # Pad the number to five digits\n",
    "        padded_number = number_part.zfill(5)\n",
    "        \n",
    "        # Construct the new file name\n",
    "        new_file_name = '_'.join(parts[:-1]) + f\"_{padded_number}.json\"\n",
    "        new_file_path = os.path.join(directory_path, new_file_name)\n",
    "        \n",
    "        # Rename the file\n",
    "        os.rename(file_path, new_file_path)\n",
    "\n",
    "    print(\"File renaming completed.\")"
   ]
  }
 ],
 "metadata": {
  "kernelspec": {
   "display_name": ".venv",
   "language": "python",
   "name": "python3"
  },
  "language_info": {
   "codemirror_mode": {
    "name": "ipython",
    "version": 3
   },
   "file_extension": ".py",
   "mimetype": "text/x-python",
   "name": "python",
   "nbconvert_exporter": "python",
   "pygments_lexer": "ipython3",
   "version": "3.10.12"
  }
 },
 "nbformat": 4,
 "nbformat_minor": 2
}
