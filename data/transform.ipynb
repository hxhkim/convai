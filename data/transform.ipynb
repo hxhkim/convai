{
 "cells": [
  {
   "cell_type": "markdown",
   "metadata": {},
   "source": [
    "### 변환 테스트 1"
   ]
  },
  {
   "cell_type": "code",
   "execution_count": 2,
   "metadata": {},
   "outputs": [],
   "source": [
    "import json  # JSON 데이터를 다루기 위한 json 모듈을 임포트\n",
    "\n",
    "# 파일 읽기\n",
    "with open('/home/user1/conversation-data/dataset-01-convai/data/formatted/formatted_data_intermediate.json', 'r') as file:\n",
    "    data = json.load(file)  # JSON 파일을 읽어서 data 변수에 저장\n",
    "\n",
    "# data가 리스트인지 확인하고 첫 번째 요소를 사용\n",
    "if isinstance(data, list):  # data가 리스트인지 확인\n",
    "    data = data[0]  # 리스트인 경우 첫 번째 요소를 사용\n",
    "\n",
    "# 변환 작업\n",
    "transformed_data = {\n",
    "    \"dialogs\": [],  # 변환된 대화 데이터를 저장할 리스트\n",
    "    \"assistant\": {\n",
    "        \"personality\": data.get(\"bot_profile\", [])  # bot_profile을 assistant의 personality에 저장\n",
    "    },\n",
    "    \"user\": {\n",
    "        \"personality\": data.get(\"user_profile\", [])  # user_profile을 user의 personality에 저장\n",
    "    }\n",
    "}\n",
    "\n",
    "# # 첫 5개의 대화만 변환\n",
    "# for dialog in data.get(\"dialogs\", [])[:5]:  # 첫 5개의 대화만 순회\n",
    "#     transformed_dialog = {\n",
    "#         \"utterance_id\": dialog.get(\"id\"),  # id를 utterance_id로 설정\n",
    "#         \"utterer\": dialog.get(\"sender\"),  # sender를 utterer로 설정\n",
    "#         \"text\": dialog.get(\"text\"),  # text를 text로 설정\n",
    "#         \"role\": \"assistant\" if dialog.get(\"sender_class\") == \"Bot\" else \"user\"  # sender_class를 role로 설정, Bot은 assistant로, Human은 user로 변경\n",
    "#     }\n",
    "#     transformed_data[\"dialogs\"].append(transformed_dialog)  # 변환된 대화를 dialogs 리스트에 추가\n",
    "\n",
    "# 파일 쓰기\n",
    "with open('transformed_formatted_summer_wild_evaluation_dialogs_test.json', 'w') as f:\n",
    "    json.dump(transformed_data, f, indent=4)  # 변환된 데이터를 JSON 파일로 저장, 들여쓰기는 4칸"
   ]
  },
  {
   "cell_type": "code",
   "execution_count": null,
   "metadata": {},
   "outputs": [],
   "source": [
    "# 이렇게 했을 때 결과\n",
    "\n",
    "# {\n",
    "#     \"dialogs\": [],\n",
    "#     \"assistant\": {\n",
    "#         \"personality\": [\n",
    "#             \"i try various coffees as a hobby.\",\n",
    "#             \"i enjoy poetry.\",\n",
    "#             \"i am a huge star wars fan.\",\n",
    "#             \"i played football for a division a college.\"\n",
    "#         ]\n",
    "#     },\n",
    "#     \"user\": {\n",
    "#         \"personality\": [\n",
    "#             \"my favourite music is country music.\",\n",
    "#             \"i drive a nissan pathfinder.\",\n",
    "#             \"i met taylor swift.\",\n",
    "#             \"i've short brown hair.\"\n",
    "#         ]\n",
    "#     }\n",
    "# }"
   ]
  },
  {
   "cell_type": "markdown",
   "metadata": {},
   "source": [
    "### 변환 테스트 2"
   ]
  },
  {
   "cell_type": "code",
   "execution_count": 7,
   "metadata": {},
   "outputs": [
    {
     "data": {
      "text/plain": [
       "{'dialog': [{'id': 0,\n",
       "   'sender': 'participant1',\n",
       "   'text': 'Are u there?',\n",
       "   'evaluation_score': None,\n",
       "   'sender_class': 'Human'}],\n",
       " 'start_time': '2018-07-09 04:29:15',\n",
       " 'end_time': '2018-07-09 04:29:15',\n",
       " 'bot_profile': ['i try various coffees as a hobby.',\n",
       "  'i enjoy poetry.',\n",
       "  'i am a huge star wars fan.',\n",
       "  'i played football for a division a college.'],\n",
       " 'user_profile': ['my favourite music is country music.',\n",
       "  'i drive a nissan pathfinder.',\n",
       "  'i met taylor swift.',\n",
       "  \"i've short brown hair.\"],\n",
       " 'eval_score': 1,\n",
       " 'profile_match': 1,\n",
       " 'participant1_id': {'class': 'User', 'user_id': 'User 00431'},\n",
       " 'participant2_id': {'class': 'Bot', 'user_id': 'Bot 005'}}"
      ]
     },
     "execution_count": 7,
     "metadata": {},
     "output_type": "execute_result"
    }
   ],
   "source": [
    "import json  # JSON 데이터를 다루기 위한 json 모듈을 임포트\n",
    "\n",
    "# 파일 읽기\n",
    "with open('/home/user1/conversation-data/dataset-01-convai/data/formatted/formatted_data_intermediate.json', 'r') as file:\n",
    "    data = json.load(file)  # JSON 파일을 읽어서 data 변수에 저장\n",
    "\n",
    "data[0]"
   ]
  },
  {
   "cell_type": "code",
   "execution_count": 8,
   "metadata": {},
   "outputs": [
    {
     "data": {
      "text/plain": [
       "{'dialog': [{'id': 0,\n",
       "   'sender': 'participant2',\n",
       "   'text': 'Hey! What are you doing? 🧐.\\nShort bio: i help tend fields, my father is farmer',\n",
       "   'evaluation_score': None,\n",
       "   'sender_class': 'Bot'}],\n",
       " 'start_time': '2018-07-09 08:06:08.322000',\n",
       " 'end_time': '2018-07-09 08:06:08.322000',\n",
       " 'bot_profile': ['i like to ride horses.',\n",
       "  'i help tend the fields.',\n",
       "  'i like to listen to rock music while working.',\n",
       "  'i have three arabian horses.',\n",
       "  'my father is a farmer.'],\n",
       " 'user_profile': ['i work at a school.',\n",
       "  'a already have a step children.',\n",
       "  'i just moved into my first home.',\n",
       "  'i recently moved to this country.'],\n",
       " 'eval_score': None,\n",
       " 'profile_match': '',\n",
       " 'participant1_id': {'class': 'User', 'user_id': 'User 00918'},\n",
       " 'participant2_id': {'class': 'Bot', 'user_id': 'Bot 001'}}"
      ]
     },
     "execution_count": 8,
     "metadata": {},
     "output_type": "execute_result"
    }
   ],
   "source": [
    "data[1]"
   ]
  }
 ],
 "metadata": {
  "kernelspec": {
   "display_name": ".venv",
   "language": "python",
   "name": "python3"
  },
  "language_info": {
   "codemirror_mode": {
    "name": "ipython",
    "version": 3
   },
   "file_extension": ".py",
   "mimetype": "text/x-python",
   "name": "python",
   "nbconvert_exporter": "python",
   "pygments_lexer": "ipython3",
   "version": "3.10.12"
  }
 },
 "nbformat": 4,
 "nbformat_minor": 2
}
